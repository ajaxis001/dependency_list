{
 "cells": [
  {
   "cell_type": "markdown",
   "metadata": {},
   "source": [
    "# CREATING A Simple METHOD TO BUILD A DEPENDENCY TREE"
   ]
  },
  {
   "cell_type": "markdown",
   "metadata": {},
   "source": [
    "## Objective\n",
    "\n"
   ]
  },
  {
   "cell_type": "code",
   "execution_count": 1,
   "metadata": {
    "collapsed": true
   },
   "outputs": [],
   "source": [
    "import os\n",
    "import glob \n",
    "\n",
    "import pprint "
   ]
  },
  {
   "cell_type": "markdown",
   "metadata": {},
   "source": [
    "### Creating a node class to hold the dependency tree"
   ]
  },
  {
   "cell_type": "raw",
   "metadata": {},
   "source": [
    "This class can be used to create a dependency tree, it has the following memebers and functions\n",
    "\n",
    "Members:\n",
    "first_run - a class static variable which is used to check if the populating if the first_run of populating the tree is done\n",
    "package - a dictionary to hold the package attributes which include:\n",
    "          1. name\n",
    "          2. required version\n",
    "          3. available version\n",
    "          4. download link to the available version\n",
    "          5. extra config notes to remember when installing like specific flags to be set etc.\n",
    "dependencies - a list of objects of type node which contains all the dependency informations\n",
    "parent - a reference to the dependencies parent , i.e. the software that required its installation\n",
    "level -  the depth of the node in the dependency tree\n",
    "\n",
    "Member functions:\n",
    "add_dependency\n",
    "print_dependency_list\n",
    "populate_list\n",
    "input_details\n",
    "imput_attr"
   ]
  },
  {
   "cell_type": "code",
   "execution_count": 11,
   "metadata": {},
   "outputs": [],
   "source": [
    "# creating a dependancy list (Tree datastructure)\n",
    "class node():\n",
    "    \n",
    "    first_run = True\n",
    "    \n",
    "    # what we store \n",
    "    def __init__(self,**kwargs):\n",
    "        #self.package = collections.OrderedDict()\n",
    "        self.package = {}\n",
    "        \n",
    "        self.package['name'] = kwargs.pop('name', 'na') # name of package\n",
    "        self.package['version_req'] = kwargs.pop('version_req','na')# package version required\n",
    "        self.package['version_av'] = kwargs.pop('version_av', 'na')# package version available\n",
    "        self.package['get_av_link'] = kwargs.pop('get_av_link', r'na') # download link to available package\n",
    "        self.package['config_notes'] = kwargs.pop('config_notes', 'na')# specific notes to remember during installation'\n",
    "        \n",
    "        # some parameters to traverse the tree\n",
    "        self.level = kwargs.pop('level',0) # current depth of dependency tree, the head being 0\n",
    "        \n",
    "        # A list of nodes holding the dependencies as class node objects \n",
    "        self.dependencies = []\n",
    "        \n",
    "        # A reference to the parent object\n",
    "        self.parent = None \n",
    "        \n",
    "        \n",
    "    def add_dependency(self, dependency):\n",
    "        dependency.parent = self\n",
    "        self.dependencies.append(dependency)\n",
    "        \n",
    "    def print_dependency_list(self):\n",
    "        # recursively print out all dependencies\n",
    "        pprint.pprint(self.package,indent = self.level * 4)\n",
    "        \n",
    "        if self.dependencies: # if there are dependencies\n",
    "            for dependency in self.dependencies:\n",
    "                dependency.print_dependency_list()\n",
    "            \n",
    "    def populate_list(self):\n",
    "        # recursively input values to \n",
    "        \n",
    "        if node.first_run == True:\n",
    "            print(\"\\n First Run - Start to populate tree, Now at level: \" + str(self.level))\n",
    "            print(\"==================================================================================================\")\n",
    "            self.input_details(self.package) # input the values to head node\n",
    "            node.first_run = False\n",
    "            dependency_exits =input(\"Do you want to add a dependency : (y/n/exit)\")\n",
    "            if dependency_exits == 'y':\n",
    "                dependency = node(level=self.level+1)\n",
    "                self.add_dependency(dependency)\n",
    "                dependency.populate_list()\n",
    "                            \n",
    "        else:     \n",
    "            if self.parent is not None:\n",
    "                print(\"\\n You are under (\"+self.parent.package['name']+\") in tree level: \" + str(self.level))\n",
    "                print(\"==================================================================================================\")\n",
    "                self.input_details(self.package) # input the values to head node\n",
    "                dependency_exits =input(\"Do you want to add a dependency : (y/n/exit)\")\n",
    "            else:\n",
    "                print(\"\\n You at the top, in tree level: \" + str(self.level))\n",
    "                print(\"==================================================================================================\")\n",
    "                self.input_details(self.package) # input the values to head node\n",
    "                dependency_exits =input(\"Do you want to add a dependency : (y/n/exit)\")\n",
    "                \n",
    "            if dependency_exits == 'y':\n",
    "                dependency = node(level=self.level+1)\n",
    "                self.add_dependency(dependency)\n",
    "                dependency.populate_list()\n",
    "                \n",
    "            elif dependency_exits == 'n' and self.parent is not None: # go back to parent node\n",
    "                self.parent.populate_list()\n",
    "       \n",
    "                   \n",
    "    def input_details(self,pkg):\n",
    "        # get the pkg details\n",
    "        data_input = input(\"Do you want to input any data (y/n): \")\n",
    "        if data_input == 'y':\n",
    "            pkg['name'] = self.input_attr('name') # name of package\n",
    "            pkg['version_req'] = self.input_attr('version_req')# package version required\n",
    "            pkg['version_av'] = self.input_attr('version_av')# package version available\n",
    "            pkg['get_av_link'] = self.input_attr('get_av_link') # download link to available package\n",
    "            pkg['config_notes'] = self.input_attr('config_notes')# specific notes to remember during installation'\n",
    "            \n",
    "             \n",
    "    def input_attr(self,attr_name):\n",
    "        attr_val = input(attr_name+\": \")\n",
    "        if attr_val == '':\n",
    "            print(self.package[attr_name])\n",
    "            return self.package[attr_name]\n",
    "        else:\n",
    "            return attr_val\n",
    "            \n",
    "    \n",
    "    \n",
    "    \n",
    "        "
   ]
  },
  {
   "cell_type": "markdown",
   "metadata": {},
   "source": [
    "### create a node object"
   ]
  },
  {
   "cell_type": "code",
   "execution_count": 12,
   "metadata": {
    "collapsed": true
   },
   "outputs": [],
   "source": [
    "openslide = node()"
   ]
  },
  {
   "cell_type": "markdown",
   "metadata": {},
   "source": [
    "### Test populate_list() function"
   ]
  },
  {
   "cell_type": "code",
   "execution_count": 14,
   "metadata": {},
   "outputs": [
    {
     "name": "stdout",
     "output_type": "stream",
     "text": [
      "\n",
      " First Run - Start to populate tree, Now at level: 0\n",
      "==================================================================================================\n",
      "Do you want to input any data (y/n): y\n",
      "name: a\n",
      "version_req: a\n",
      "version_av: a\n",
      "get_av_link: a\n",
      "config_notes: a\n",
      "Do you want to add a dependency : (y/n/exit)y\n",
      "\n",
      " You are under (a) in tree level: 1\n",
      "==================================================================================================\n",
      "Do you want to input any data (y/n): y\n",
      "name: b\n",
      "version_req: b\n",
      "version_av: b\n",
      "get_av_link: b\n",
      "config_notes: b\n",
      "Do you want to add a dependency : (y/n/exit)y\n",
      "\n",
      " You are under (b) in tree level: 2\n",
      "==================================================================================================\n",
      "Do you want to input any data (y/n): n\n",
      "Do you want to add a dependency : (y/n/exit)n\n",
      "\n",
      " You are under (a) in tree level: 1\n",
      "==================================================================================================\n",
      "Do you want to input any data (y/n): n\n",
      "Do you want to add a dependency : (y/n/exit)n\n",
      "\n",
      " You at the top, in tree level: 0\n",
      "==================================================================================================\n",
      "Do you want to input any data (y/n): n\n",
      "Do you want to add a dependency : (y/n/exit)n\n"
     ]
    }
   ],
   "source": [
    "# test out the populate_list() function\n",
    "openslide.populate_list()\n"
   ]
  },
  {
   "cell_type": "markdown",
   "metadata": {},
   "source": [
    "### Test print_dependency_list() function"
   ]
  },
  {
   "cell_type": "code",
   "execution_count": 6,
   "metadata": {},
   "outputs": [
    {
     "name": "stdout",
     "output_type": "stream",
     "text": [
      "{'config_notes': 'a',\n",
      "'get_av_link': 'a',\n",
      "'name': 'a',\n",
      "'version_av': 'a',\n",
      "'version_req': 'a'}\n",
      "{   'config_notes': 'b',\n",
      "    'get_av_link': 'b',\n",
      "    'name': 'b',\n",
      "    'version_av': 'b',\n",
      "    'version_req': 'b'}\n",
      "{       'config_notes': 'na',\n",
      "        'get_av_link': 'na',\n",
      "        'name': 'na',\n",
      "        'version_av': 'na',\n",
      "        'version_req': 'na'}\n"
     ]
    }
   ],
   "source": [
    "openslide.print_dependency_list()\n"
   ]
  },
  {
   "cell_type": "code",
   "execution_count": null,
   "metadata": {
    "collapsed": true
   },
   "outputs": [],
   "source": []
  }
 ],
 "metadata": {
  "kernelspec": {
   "display_name": "Python 3",
   "language": "python",
   "name": "python3"
  },
  "language_info": {
   "codemirror_mode": {
    "name": "ipython",
    "version": 3
   },
   "file_extension": ".py",
   "mimetype": "text/x-python",
   "name": "python",
   "nbconvert_exporter": "python",
   "pygments_lexer": "ipython3",
   "version": "3.6.1"
  }
 },
 "nbformat": 4,
 "nbformat_minor": 2
}
